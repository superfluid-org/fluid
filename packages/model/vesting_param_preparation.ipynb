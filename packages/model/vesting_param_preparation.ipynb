{
 "cells": [
  {
   "cell_type": "code",
   "execution_count": 3,
   "metadata": {},
   "outputs": [],
   "source": [
    "def calculate_vesting_schedule(vesting_amount: int) -> tuple[int, int]:\n",
    "    \"\"\"\n",
    "    Calculate optimal vesting schedule parameters to avoid remainder issues.\n",
    "    \n",
    "    Args:\n",
    "        vesting_amount: Total amount of tokens to vest\n",
    "        \n",
    "    Returns:\n",
    "        tuple: (cliff_amount, flow_rate)\n",
    "    \"\"\"\n",
    "    VESTING_DURATION = 63072000  # 2 years in seconds\n",
    "    \n",
    "    # Start with approximately 1/3 of vesting amount for cliff\n",
    "    initial_cliff = vesting_amount // 3\n",
    "    \n",
    "    # Calculate remaining amount to be streamed\n",
    "    remaining_amount = vesting_amount - initial_cliff\n",
    "    \n",
    "    # Adjust cliff amount to ensure remaining_amount is perfectly divisible by duration\n",
    "    remainder = remaining_amount % VESTING_DURATION\n",
    "    if remainder != 0:\n",
    "        # Add the remainder to cliff amount to ensure perfect division\n",
    "        cliff_amount = initial_cliff + remainder\n",
    "        remaining_amount = vesting_amount - cliff_amount\n",
    "    else:\n",
    "        cliff_amount = initial_cliff\n",
    "    \n",
    "    # Calculate flow rate (tokens per second)\n",
    "    flow_rate = remaining_amount // VESTING_DURATION\n",
    "    \n",
    "    # Verify calculations\n",
    "    total = cliff_amount + (flow_rate * VESTING_DURATION)\n",
    "    assert total == vesting_amount, \"Calculation error: amounts don't match\"\n",
    "    \n",
    "    return cliff_amount, flow_rate"
   ]
  },
  {
   "cell_type": "code",
   "execution_count": 4,
   "metadata": {},
   "outputs": [
    {
     "name": "stdout",
     "output_type": "stream",
     "text": [
      "Vesting Amount: 9850000000000000000000\n",
      "Cliff Amount: 3283333333333358080000\n",
      "Flow Rate (tokens/second): 104113817013360\n",
      "Duration: 63072000 seconds (2 years)\n",
      "\n",
      "Verification:\n",
      "Total vested amount: 9850000000000000000000\n",
      "Difference: 0\n"
     ]
    }
   ],
   "source": [
    "\n",
    "vesting_amount = 9_850 * 10**18  # 10,000 tokens with 18 decimals\n",
    "\n",
    "    \n",
    "cliff_amount, flow_rate = calculate_vesting_schedule(vesting_amount)\n",
    "    \n",
    "print(f\"Vesting Amount: {vesting_amount}\")\n",
    "print(f\"Cliff Amount: {cliff_amount}\")\n",
    "print(f\"Flow Rate (tokens/second): {flow_rate}\")\n",
    "print(f\"Duration: {63072000} seconds (2 years)\")\n",
    "    \n",
    "# Verify no tokens are lost\n",
    "total_vested = cliff_amount + (flow_rate * 63072000)\n",
    "print(f\"\\nVerification:\")\n",
    "print(f\"Total vested amount: {total_vested}\")\n",
    "print(f\"Difference: {vesting_amount - total_vested}\")"
   ]
  },
  {
   "cell_type": "code",
   "execution_count": 6,
   "metadata": {},
   "outputs": [
    {
     "name": "stdout",
     "output_type": "stream",
     "text": [
      "Vesting Amount: 100000000000000000000000\n",
      "Cliff Amount: 33333333333333347008000\n",
      "Flow Rate: 1056993066125486\n",
      "---\n",
      "Vesting Amount: 50000000000000000000000\n",
      "Cliff Amount: 16666666666666673504000\n",
      "Flow Rate: 528496533062743\n",
      "---\n",
      "Vesting Amount: 25000000000000000000000\n",
      "Cliff Amount: 8333333333333368288000\n",
      "Flow Rate: 264248266531371\n",
      "---\n",
      "Vesting Amount: 17500000000000000000000\n",
      "Cliff Amount: 5833333333333338880000\n",
      "Flow Rate: 184973786571960\n",
      "---\n",
      "Vesting Amount: 14000000000000000000000\n",
      "Cliff Amount: 4666666666666671104000\n",
      "Flow Rate: 147979029257568\n",
      "---\n",
      "Vesting Amount: 12710000000000000000000\n",
      "Cliff Amount: 4236666666666685472000\n",
      "Flow Rate: 134343818704549\n",
      "---\n",
      "Vesting Amount: 9850000000000000000000\n",
      "Cliff Amount: 3283333333333358080000\n",
      "Flow Rate: 104113817013360\n",
      "---\n"
     ]
    }
   ],
   "source": [
    "vesting_amounts = [100_000 * 10**18, 50_000 * 10**18, 25_000 * 10**18, 17_500 * 10**18, 14_000 * 10**18, 12_710 * 10**18, 9_850 * 10**18]\n",
    "\n",
    "for vesting_amount in vesting_amounts:\n",
    "    cliff_amount, flow_rate = calculate_vesting_schedule(vesting_amount)\n",
    "    \n",
    "    print(f\"Vesting Amount: {vesting_amount}\")\n",
    "    print(f\"Cliff Amount: {cliff_amount}\")\n",
    "    print(f\"Flow Rate: {flow_rate}\")\n",
    "    print(\"---\")\n"
   ]
  }
 ],
 "metadata": {
  "kernelspec": {
   "display_name": "Python 3",
   "language": "python",
   "name": "python3"
  },
  "language_info": {
   "codemirror_mode": {
    "name": "ipython",
    "version": 3
   },
   "file_extension": ".py",
   "mimetype": "text/x-python",
   "name": "python",
   "nbconvert_exporter": "python",
   "pygments_lexer": "ipython3",
   "version": "3.9.6"
  }
 },
 "nbformat": 4,
 "nbformat_minor": 2
}
