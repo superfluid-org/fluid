{
 "cells": [
  {
   "cell_type": "code",
   "execution_count": 1,
   "metadata": {},
   "outputs": [],
   "source": [
    "import random\n",
    "from datetime import datetime, timedelta\n",
    "import matplotlib.pyplot as plt\n",
    "from ipywidgets import interact\n",
    "import numpy as np"
   ]
  },
  {
   "cell_type": "code",
   "execution_count": 2,
   "metadata": {},
   "outputs": [],
   "source": [
    "# Penalty Percentage for instant locker drain (80%)\n",
    "PENALTY_PERCENTAGE = 0.8 "
   ]
  },
  {
   "cell_type": "code",
   "execution_count": 3,
   "metadata": {},
   "outputs": [],
   "source": [
    "# FLUID Class\n",
    "class Fluid:\n",
    "    def __init__(self):\n",
    "        # Fluid Total Supply (only considering community owned supply - i.e. excluding Treasury, Investors, Team vesting...)\n",
    "        self.supply = 0\n",
    "\n",
    "        # Fluid Supply in Lockers\n",
    "        self.locked = 0\n",
    "\n",
    "        # Fluid Supply out of Lockers\n",
    "        self.unlocked = 0\n",
    "\n",
    "# Locker Class\n",
    "class Locker:\n",
    "    def __init__(self):\n",
    "        # To simplify this model, Locker is a singleton that represents all user's locker\n",
    "        self.owners = {}\n",
    "\n",
    "    # Add `amount` of $FLUID to the `recipient` locker \n",
    "    def lock_fluid(self, recipient, amount):\n",
    "        self.owners[recipient] = {\n",
    "            'amount': amount\n",
    "        }\n",
    "    \n",
    "    # Drain $FLUID from `owner` locker\n",
    "    def drain_locker(self, incentiveManager, owner, isInstant):\n",
    "        if(self.owners[owner]['amount'] == 0):\n",
    "            return \n",
    "            \n",
    "        if(isInstant):\n",
    "            drain_penalty = PENALTY_PERCENTAGE * self.owners[owner]['amount']\n",
    "            IncentiveManager.topup_incentives(incentiveManager, drain_penalty)\n",
    "\n",
    "        self.owners[owner] = {\n",
    "            'amount': 0\n",
    "        }\n",
    "\n",
    "# Incentive Manager Class\n",
    "class IncentiveManager:\n",
    "    def __init__(self):\n",
    "        self.reserve = 0\n",
    "\n",
    "    def topup_incentives(self, amount):\n",
    "        self.reserve += amount\n",
    "\n",
    "\n",
    "\n",
    "    "
   ]
  },
  {
   "cell_type": "code",
   "execution_count": null,
   "metadata": {},
   "outputs": [],
   "source": []
  }
 ],
 "metadata": {
  "kernelspec": {
   "display_name": "Python 3",
   "language": "python",
   "name": "python3"
  },
  "language_info": {
   "codemirror_mode": {
    "name": "ipython",
    "version": 3
   },
   "file_extension": ".py",
   "mimetype": "text/x-python",
   "name": "python",
   "nbconvert_exporter": "python",
   "pygments_lexer": "ipython3",
   "version": "3.9.6"
  }
 },
 "nbformat": 4,
 "nbformat_minor": 2
}
